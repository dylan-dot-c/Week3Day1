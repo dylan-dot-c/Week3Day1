{
 "cells": [
  {
   "cell_type": "markdown",
   "metadata": {},
   "source": [
    "# Object-Oriented-Programming (OOP)"
   ]
  },
  {
   "cell_type": "markdown",
   "metadata": {},
   "source": [
    "## Tasks Today:\n",
    "\n",
    "   \n",
    "\n",
    "1) <b>Creating a Class (Initializing/Declaring)</b> <br>\n",
    "2) <b>Using a Class (Instantiating)</b> <br>\n",
    " &nbsp;&nbsp;&nbsp;&nbsp; a) Creating One Instance <br>\n",
    " &nbsp;&nbsp;&nbsp;&nbsp; b) Creating Multiple Instances <br>\n",
    " &nbsp;&nbsp;&nbsp;&nbsp; c) In-Class Exercise #1 - Create a Class 'Car' and instantiate three different makes of cars <br>\n",
    "3) <b>The \\__init\\__() Method</b> <br>\n",
    " &nbsp;&nbsp;&nbsp;&nbsp; a) The 'self' Attribute <br>\n",
    "4) <b>Class Attributes</b> <br>\n",
    " &nbsp;&nbsp;&nbsp;&nbsp; a) Initializing Attributes <br>\n",
    " &nbsp;&nbsp;&nbsp;&nbsp; b) Setting an Attribute Outside of the \\__init\\__() Method <br>\n",
    " &nbsp;&nbsp;&nbsp;&nbsp; c) Setting Defaults for Attributes <br>\n",
    " &nbsp;&nbsp;&nbsp;&nbsp; d) Accessing Class Attributes <br>\n",
    " &nbsp;&nbsp;&nbsp;&nbsp; e) Changing Class Attributes <br>\n",
    " &nbsp;&nbsp;&nbsp;&nbsp; f) In-Class Exercise #2 - Update your 'Car' class with \\__init\\__() method and class attributes<br>\n",
    "5) <b>Class Methods</b> <br>\n",
    " &nbsp;&nbsp;&nbsp;&nbsp; a) Creating <br>\n",
    " &nbsp;&nbsp;&nbsp;&nbsp; b) Calling <br>\n",
    " &nbsp;&nbsp;&nbsp;&nbsp; c) Modifying an Attribute's Value Through a Method <br>\n",
    " &nbsp;&nbsp;&nbsp;&nbsp; d) Incrementing an Attribute's Value Through a Method <br>\n",
    " &nbsp;&nbsp;&nbsp;&nbsp; e) In-Class Exercise #3 - Update Car class with new methods <br>\n",
    "6) <b>Classes as Attributes</b> <br>\n",
    "8) <b>Exercises</b> <br>\n",
    " &nbsp;&nbsp;&nbsp;&nbsp; a) Exercise #1 - Turn the shopping cart program from yesterday into an object-oriented program <br>\n",
    "  &nbsp;&nbsp;&nbsp;&nbsp; a) Exercise #2 - Create an Animal class with Eat, Sleep, and Play methods <br>"
   ]
  },
  {
   "cell_type": "code",
   "execution_count": null,
   "metadata": {},
   "outputs": [],
   "source": []
  },
  {
   "cell_type": "markdown",
   "metadata": {},
   "source": [
    "#### Object-Oriented Programming"
   ]
  },
  {
   "cell_type": "markdown",
   "metadata": {},
   "source": [
    "Object-Oriented Programming (OOP) allows us to create programs so that that properties and behaviors are bundled into **objects**. OOP models real-world entities as software objects that have some data associated with them and can perform certain functions."
   ]
  },
  {
   "cell_type": "markdown",
   "metadata": {},
   "source": [
    "## Creating a Class (Initializing/Declaring)\n",
    "<p>When creating a class, function, or even a variable you are initializing that object. Initializing and Declaring occur at the same time in Python, whereas in lower level languages you have to declare an object before initializing it. This is the first step in the process of using a class.</p>"
   ]
  },
  {
   "cell_type": "code",
   "execution_count": 19,
   "metadata": {},
   "outputs": [],
   "source": [
    "class Money:\n",
    "    pass\n",
    "\n",
    "class Food():\n",
    "    pass"
   ]
  },
  {
   "cell_type": "markdown",
   "metadata": {},
   "source": [
    "## Using a Class (Instantiating)\n",
    "<p>The process of creating a class is called <i>Instantiating</i>. Each time you create a variable of that type of class, it is referred to as an <i>Instance</i> of that class. This is the second step in the process of using a class.</p>"
   ]
  },
  {
   "cell_type": "code",
   "execution_count": 21,
   "metadata": {},
   "outputs": [
    {
     "name": "stdout",
     "output_type": "stream",
     "text": [
      "<__main__.Money object at 0x000001BBDB817990>\n",
      "<__main__.Money object at 0x000001BBDB81F2D0>\n"
     ]
    }
   ],
   "source": [
    "apple = Money()\n",
    "print(apple)\n",
    "cat = Money()\n",
    "print(cat)"
   ]
  },
  {
   "cell_type": "markdown",
   "metadata": {},
   "source": [
    "##### Creating One Instance"
   ]
  },
  {
   "cell_type": "code",
   "execution_count": null,
   "metadata": {},
   "outputs": [],
   "source": []
  },
  {
   "cell_type": "markdown",
   "metadata": {},
   "source": [
    "##### Creating Multiple Instances"
   ]
  },
  {
   "cell_type": "code",
   "execution_count": null,
   "metadata": {},
   "outputs": [],
   "source": []
  },
  {
   "cell_type": "markdown",
   "metadata": {},
   "source": [
    "##### Adding attributes to instances"
   ]
  },
  {
   "cell_type": "code",
   "execution_count": 22,
   "metadata": {},
   "outputs": [
    {
     "name": "stdout",
     "output_type": "stream",
     "text": [
      "Help on class Student in module __main__:\n",
      "\n",
      "class Student(builtins.object)\n",
      " |  Data descriptors defined here:\n",
      " |  \n",
      " |  __dict__\n",
      " |      dictionary for instance variables (if defined)\n",
      " |  \n",
      " |  __weakref__\n",
      " |      list of weak references to the object (if defined)\n",
      "\n",
      "APPLE\n"
     ]
    }
   ],
   "source": [
    "class Student:\n",
    "    pass\n",
    "        \n",
    "#     instance\n",
    "student = Student()\n",
    "# print(student.firstname)\n",
    "help(Student)\n",
    "# adding attributes\n",
    "student.middleName = \"APPLE\"\n",
    "print(student.middleName)\n",
    "# in pythom you can access all class attributes and you can create new ones outside of the class\n",
    "# "
   ]
  },
  {
   "cell_type": "markdown",
   "metadata": {},
   "source": [
    "##### In-Class Exercise #1 - Create a Class 'Car' and Instantiate three different car instances. Add a different make for each car."
   ]
  },
  {
   "cell_type": "code",
   "execution_count": 18,
   "metadata": {},
   "outputs": [
    {
     "name": "stdout",
     "output_type": "stream",
     "text": [
      "FORD Ferrari Toyota\n"
     ]
    }
   ],
   "source": [
    "class Car():\n",
    "    pass\n",
    "\n",
    "firstCar = Car()\n",
    "firstCar.make = \"FORD\"\n",
    "secondCar = Car()\n",
    "secondCar.make = \"Ferrari\"\n",
    "thirdCar = Car()\n",
    "thirdCar.make = \"Toyota\"\n",
    "\n",
    "print(firstCar.make, secondCar.make, thirdCar.make)\n",
    "\n"
   ]
  },
  {
   "cell_type": "markdown",
   "metadata": {},
   "source": [
    "## The \\__init\\__() Method <br>\n",
    "<p>This method is used in almost every created class, and called only once upon the creation of the class instance. This method will initialize all variables needed for the object.</p>"
   ]
  },
  {
   "cell_type": "markdown",
   "metadata": {},
   "source": [
    "##### The 'self' Attribute <br>\n",
    "<p>This attribute is required to keep track of specific instance's attributes. Without the self attribute, the program would not know how to reference or keep track of an instance's attributes.</p>"
   ]
  },
  {
   "cell_type": "code",
   "execution_count": 35,
   "metadata": {},
   "outputs": [
    {
     "name": "stdout",
     "output_type": "stream",
     "text": [
      "{'name': 'Dylan', 'age': 'Heslop'}\n",
      "<__main__.Student object at 0x000001BBDB7CC7D0>\n",
      "{'name': 'DYLAN', 'age': 'HESLOP'}\n"
     ]
    }
   ],
   "source": [
    "# init is the constructor function that runs when creating a new instance of a class\n",
    "# self is like this for python shows that ur ref the current object\n",
    "class Student():\n",
    "    def __init__(self):\n",
    "        self.name = \"Dylan\"\n",
    "        self.age = \"Heslop\"\n",
    "        print(self.__dict__)\n",
    "        \n",
    "    def upperCase(self):\n",
    "        self.name = self.name.upper()\n",
    "        self.age = self.age.upper()\n",
    "        print(self.__dict__) nh\n",
    "        \n",
    "student1 = Student()\n",
    "print(student1)\n",
    "        \n",
    "student1.upperCase()"
   ]
  },
  {
   "cell_type": "code",
   "execution_count": 39,
   "metadata": {},
   "outputs": [
    {
     "name": "stdout",
     "output_type": "stream",
     "text": [
      "Help on class Student in module __main__:\n",
      "\n",
      "class Student(builtins.object)\n",
      " |  Data descriptors defined here:\n",
      " |  \n",
      " |  __dict__\n",
      " |      dictionary for instance variables (if defined)\n",
      " |  \n",
      " |  __weakref__\n",
      " |      list of weak references to the object (if defined)\n",
      "\n",
      "APPLE\n"
     ]
    }
   ],
   "source": [
    "class Student:\n",
    "    pass\n",
    "        \n",
    "student = Student()\n",
    "# print(student.firstname)\n",
    "help(Student)\n",
    "student.middleName = \"APPLE\"\n",
    "print(student.middleName)"
   ]
  },
  {
   "cell_type": "code",
   "execution_count": 40,
   "metadata": {},
   "outputs": [
    {
     "name": "stdout",
     "output_type": "stream",
     "text": [
      "{'middleName': 'APPLE', 'first': 'Dylan', 'middle': 'Deione', 'last': 'Heslop'}\n"
     ]
    }
   ],
   "source": [
    "studentInfo = {\n",
    "    \"first\": \"Dylan\",\n",
    "    \"middle\": \"Deione\",\n",
    "    \"last\": \"Heslop\"\n",
    "}\n",
    "\n",
    "for key, value in studentInfo.items():\n",
    "    setattr(student, key, value)\n",
    "    \n",
    "print(student.__dict__)"
   ]
  },
  {
   "cell_type": "markdown",
   "metadata": {},
   "source": [
    "## Class Attributes <br>\n",
    "<p>While variables are inside of a class, they are referred to as attributes and not variables. When someone says 'attribute' you know they're speaking about a class. Attributes can be initialized through the init method, or outside of it.</p>"
   ]
  },
  {
   "cell_type": "markdown",
   "metadata": {},
   "source": [
    "##### Initializing Attributes"
   ]
  },
  {
   "cell_type": "code",
   "execution_count": 36,
   "metadata": {},
   "outputs": [
    {
     "name": "stdout",
     "output_type": "stream",
     "text": [
      "100\n"
     ]
    }
   ],
   "source": [
    "# you dont need an instance to access class attributes\n",
    "class Laptop:\n",
    "    money = 100\n",
    "    \n",
    "print(Laptop.money)"
   ]
  },
  {
   "cell_type": "markdown",
   "metadata": {},
   "source": [
    "##### Accessing Class Attributes"
   ]
  },
  {
   "cell_type": "code",
   "execution_count": 38,
   "metadata": {
    "scrolled": true
   },
   "outputs": [
    {
     "name": "stdout",
     "output_type": "stream",
     "text": [
      "100\n"
     ]
    },
    {
     "data": {
      "text/plain": [
       "mappingproxy({'__module__': '__main__',\n",
       "              'money': 200,\n",
       "              '__dict__': <attribute '__dict__' of 'Laptop' objects>,\n",
       "              '__weakref__': <attribute '__weakref__' of 'Laptop' objects>,\n",
       "              '__doc__': None})"
      ]
     },
     "execution_count": 38,
     "metadata": {},
     "output_type": "execute_result"
    }
   ],
   "source": [
    "# See Above\n",
    "print(Laptop.money)\n",
    "Laptop.money = 200\n",
    "Laptop.__dict__"
   ]
  },
  {
   "cell_type": "markdown",
   "metadata": {},
   "source": [
    "##### Setting Defaults for Attributes"
   ]
  },
  {
   "cell_type": "code",
   "execution_count": 44,
   "metadata": {},
   "outputs": [
    {
     "name": "stdout",
     "output_type": "stream",
     "text": [
      "DELL\n",
      "DELL\n",
      "10 100\n"
     ]
    }
   ],
   "source": [
    "class Dell:\n",
    "    name = \"DELL\"\n",
    "    \n",
    "    def __init__(self, age=10):\n",
    "        self.age = age\n",
    "        print(Dell.name)\n",
    "        \n",
    "lappy = Dell()\n",
    "lappy2 = Dell(100)\n",
    "\n",
    "print(lappy.age,  lappy2.age)"
   ]
  },
  {
   "cell_type": "markdown",
   "metadata": {},
   "source": [
    "##### Changing Class Attributes <br>\n",
    "<p>Keep in mind there are global class attributes and then there are attributes only available to each class instance which won't effect other classes.</p>"
   ]
  },
  {
   "cell_type": "code",
   "execution_count": 48,
   "metadata": {},
   "outputs": [
    {
     "name": "stdout",
     "output_type": "stream",
     "text": [
      "{'cost': 1000, 'brand': 'Samsung', 'electrical': True}\n"
     ]
    }
   ],
   "source": [
    "class TV:\n",
    "    electrical = True\n",
    "    \n",
    "    def __init__(self, cost, brand, electrical = True):\n",
    "        self.cost = cost\n",
    "        self.brand = brand\n",
    "        self.electrical = TV.electrical\n",
    "        print(self.__dict__)\n",
    "        \n",
    "sam = TV(1000, \"Samsung\")"
   ]
  },
  {
   "cell_type": "code",
   "execution_count": null,
   "metadata": {},
   "outputs": [],
   "source": []
  },
  {
   "cell_type": "code",
   "execution_count": 9,
   "metadata": {},
   "outputs": [
    {
     "name": "stdout",
     "output_type": "stream",
     "text": [
      "{'middleName': 'APPLE', 'first': 'Dylan', 'middle': 'Deione', 'last': 'Heslop'}\n"
     ]
    }
   ],
   "source": []
  },
  {
   "cell_type": "markdown",
   "metadata": {},
   "source": [
    "##### In-Class Exercise 2 - Create an \\__init__ method for your Car class which takes in color and model with a default value for gas_level of 100. Your class should also have a class attribute for model. Once you have created the class, instantiate 3 different cars"
   ]
  },
  {
   "cell_type": "code",
   "execution_count": null,
   "metadata": {},
   "outputs": [],
   "source": []
  },
  {
   "cell_type": "markdown",
   "metadata": {},
   "source": [
    "## Class Methods <br>\n",
    "<p>While inside of a class, functions are referred to as 'methods'. If you hear someone mention methods, they're speaking about classes. Methods are essentially functions, but only callable on the instances of a class.</p>"
   ]
  },
  {
   "cell_type": "markdown",
   "metadata": {},
   "source": [
    "##### Creating"
   ]
  },
  {
   "cell_type": "code",
   "execution_count": null,
   "metadata": {},
   "outputs": [],
   "source": []
  },
  {
   "cell_type": "code",
   "execution_count": null,
   "metadata": {},
   "outputs": [],
   "source": []
  },
  {
   "cell_type": "markdown",
   "metadata": {},
   "source": [
    "##### Calling"
   ]
  },
  {
   "cell_type": "code",
   "execution_count": null,
   "metadata": {},
   "outputs": [],
   "source": []
  },
  {
   "cell_type": "markdown",
   "metadata": {},
   "source": [
    "##### Modifying an Attribute's Value Through a Method"
   ]
  },
  {
   "cell_type": "code",
   "execution_count": null,
   "metadata": {},
   "outputs": [],
   "source": []
  },
  {
   "cell_type": "code",
   "execution_count": null,
   "metadata": {},
   "outputs": [],
   "source": []
  },
  {
   "cell_type": "markdown",
   "metadata": {},
   "source": [
    "##### Incrementing an Attribute's Value Through a Method"
   ]
  },
  {
   "cell_type": "code",
   "execution_count": null,
   "metadata": {},
   "outputs": [],
   "source": []
  },
  {
   "cell_type": "markdown",
   "metadata": {},
   "source": [
    "##### In-Class Exercise #3 - Add two methods to your car class. One method called `drive` that will take in the number of miles and decrease that car's `gas_level` by 1 unit for every 5 miles. Another method called `fill_up` will take in gallons and increase the `gas_level` by 10 units for every gallon."
   ]
  },
  {
   "cell_type": "code",
   "execution_count": null,
   "metadata": {},
   "outputs": [],
   "source": [
    "class Car():\n",
    "    gas_level=100\n",
    "    def __init__(self, color, model):\n",
    "        self.color = color\n",
    "        self.model = model\n",
    "        self.gas_level = Car.gas_level\n",
    "        \n",
    "    def drive(self, miles):\n",
    "        self.gas_level-=(miles/5)\n",
    "        print(f\"We have driven the car for {miles} miles, and the remaining gas level is {self.gas_level}.\")\n",
    "    \n",
    "    def fill_up(self, gallons):\n",
    "        self.gas_level+=(gallons*10)\n",
    "        print(f\"After filling the car with {gallons} gallons, the new gas level is {self.gas_level}.\")\n",
    "        \n",
    "car1 = Car('blue', 'Cavalier')\n",
    "car2 = Car('beige', 'S100')\n",
    "car2.gas_level = 10\n",
    "car3 = Car('silver', 'Matrix')\n",
    "car3.gas_level = 70\n",
    "car1.drive(55)\n",
    "car2.fill_up(40)\n",
    "car3.drive(37)\n",
    "car3.fill_up(30)"
   ]
  },
  {
   "cell_type": "code",
   "execution_count": null,
   "metadata": {},
   "outputs": [],
   "source": []
  },
  {
   "cell_type": "markdown",
   "metadata": {},
   "source": [
    "## Classes as Attributes <br>\n",
    "<p>Classes can also be used as attributes within another class. This is useful in situations where you need to keep variables locally stored, instead of globally stored.</p>"
   ]
  },
  {
   "cell_type": "code",
   "execution_count": null,
   "metadata": {},
   "outputs": [],
   "source": []
  },
  {
   "cell_type": "code",
   "execution_count": null,
   "metadata": {},
   "outputs": [],
   "source": []
  },
  {
   "cell_type": "code",
   "execution_count": null,
   "metadata": {},
   "outputs": [],
   "source": []
  },
  {
   "cell_type": "markdown",
   "metadata": {},
   "source": [
    "# Exercises"
   ]
  },
  {
   "cell_type": "markdown",
   "metadata": {},
   "source": [
    "### Exercise 1 - Turn the shopping cart program into an object-oriented program"
   ]
  },
  {
   "cell_type": "code",
   "execution_count": null,
   "metadata": {},
   "outputs": [],
   "source": [
    "import time\n",
    "def showOptions():\n",
    "    options = [\n",
    "        \"1. Add New Item To Shopping List\",\n",
    "        \"2. Update Item Amount In Shopping List\",\n",
    "        \"3. View All Items In Shopping List\",\n",
    "        \"4. Delete An Item In Shopping List\",\n",
    "        \"5. Clear Shopping List\",\n",
    "        \"'quit'. Leave and print Shopping List.\",\n",
    "    ]\n",
    "    [print(\"\\t\" + option) for option in options]\n",
    "    choice = input(\"Enter A value or type 'quit' TO LEAVE: \").lower().strip()\n",
    "    return choice\n",
    " \n",
    "def AddToCart():\n",
    "    name = input(\"Enter name of Item: \").lower().strip()\n",
    "    quantity = int(input(\"Enter quantity: \"))\n",
    "    price = float(input(f\"Enter Price of {name}: $\"))\n",
    "    newItem = {\"name\": name, \"price\": price, \"quantity\": quantity, \"total\": round(quantity*price, 2)}\n",
    "    shoppingCart[name] = newItem\n",
    "#     print(shoppingCart)\n",
    "\n",
    "\n",
    "def UpdateCount():\n",
    "    name = input(\"Enter name of Item: \")\n",
    "    if name in shoppingCart:\n",
    "        print(\"Item Found!\")\n",
    "        newQuantity = int(input(\"Enter new quantity: \"))\n",
    "        shoppingCart[name][\"quantity\"] = newQuantity\n",
    "        price = shoppingCart[name][\"price\"]\n",
    "        shoppingCart[name][\"total\"] = round(newQuantity*price, 2)\n",
    "        print(f\"Quantity has been Updated to {newQuantity}\")\n",
    "    else:\n",
    "        itemNotFound()\n",
    "#     print(shoppingCart)\n",
    "\n",
    "\n",
    "def itemNotFound():\n",
    "    print(\"Item is not in shopping cart! Please try again later\")\n",
    "    \n",
    "def viewCart():\n",
    "    if len(shoppingCart) == 0:\n",
    "        print(\"\\tShopping list is empty!!\")\n",
    "        return\n",
    "    total = 0\n",
    "    print(\"=\"*20)\n",
    "#     print(shoppingCart)\n",
    "    for key, value in shoppingCart.items():\n",
    "        total += value.get(\"total\", 0)\n",
    "        print(f'''\\t{key.title()}\n",
    "        \\tPrice:     {value.get(\"price\", \"Undefined\")}\n",
    "        \\tQuantity:  {value.get(\"quantity\", \"Undefined\")}\n",
    "        \\tTotal:     ${value.get(\"total\", \"0\")}''')\n",
    "        time.sleep(1)\n",
    "    print(\"=\"*20)\n",
    "    print(f\"\\tThe total of the list is: ${round(total, 2)}\")\n",
    "    print(\"=\"*20)\n",
    "        \n",
    "def deleteItem():\n",
    "    name = input(\"Enter name of Item: \").lower().strip()\n",
    "    if name in shoppingCart:\n",
    "        del shoppingCart[name]\n",
    "        print(f\"{name} has just been removed from the shopping cart\")\n",
    "    else:\n",
    "        itemNotFound()\n",
    "        \n",
    "def clearList():\n",
    "    if len(shoppingCart) == 0:\n",
    "        print(\"SHOPPING CART IS ALREADY EMPTY\")\n",
    "    choice = input(f\"***ARE YOU SURE YOU WANT TO CLEAR YOUR LIST? IT HAS {len(shoppingCart)} items! TYPE 'CLEAR' to continue press ENTER to cancel: \")\n",
    "    if choice == \"CLEAR\":\n",
    "        print(\"Clearing list...\")\n",
    "        time.sleep(2)\n",
    "        print(\"Shopping LIST has been CLEARED!!!!\")\n",
    "        shoppingCart.clear()\n",
    "    else:\n",
    "        print(\"List not cleared. You are SAFE!!\")\n",
    "\n",
    "inputDict = {\"1\": AddToCart, \"2\": UpdateCount, \"3\": viewCart, \"4\": deleteItem, \"5\": clearList }\n",
    "shoppingCart = {}\n",
    "\n",
    "def main():\n",
    "    while True:\n",
    "        print('\\n')\n",
    "        print(f\"{'='*10}Welcome to BESTMART!{'='*10}\")\n",
    "        print(\"\\tHow can I help you today?\")\n",
    "        choice = showOptions()\n",
    "        if choice == \"\" or choice == \"quit\":\n",
    "            break\n",
    "        else:\n",
    "            inputDict[choice]()\n",
    "    \n",
    "    print(\"Printing Shopping List...\")\n",
    "    time.sleep(2)\n",
    "    viewCart()\n",
    "    \n",
    "    print(\"GoodBye, thanks for shopping\".title())\n",
    "    \n",
    "main()"
   ]
  },
  {
   "cell_type": "markdown",
   "metadata": {},
   "source": [
    "### Exercise 2 - Write a Python class for an Animal that has a name and energy attributes. The animal class should also have methods for eat, sleep, and play that will take in an integer and increase/decrease the energy of the animal with a formatted print statement"
   ]
  },
  {
   "cell_type": "code",
   "execution_count": 49,
   "metadata": {},
   "outputs": [
    {
     "name": "stdout",
     "output_type": "stream",
     "text": [
      "Louis has played for 10 he has 70 joules left.\n",
      "Louis has slept for 10 minute(s).\n",
      "Doggie is ready for play time now\n"
     ]
    }
   ],
   "source": [
    "\n",
    "class Animal():\n",
    "    def __init__(self, name, energy=100):\n",
    "        self.name = name\n",
    "        self.energy = energy\n",
    "        \n",
    "    def play(self, minutesPlayed):\n",
    "        self.energy -= minutesPlayed * 3\n",
    "        print(f\"{self.name} has played for {minutesPlayed} he has {self.energy} joules left.\")\n",
    "        if self.energy < 20 and self.energy >= 0:\n",
    "            print(f\"{self.name} is almost out of energy. They need to rest now\")\n",
    "        if self.energy < 0:\n",
    "            print(f\"OH NO!!! I'm sorry but {self.name} died. He/She played too much.\")\n",
    "            \n",
    "    def sleep(self, minutesSlept):\n",
    "        self.energy += minutesSlept * 5\n",
    "        print(f\"{self.name} has slept for {minutesSlept} minute(s). He now has {self.energy} joules now. \")\n",
    "        if self.energy >= 100:\n",
    "            print(f\"Doggie is ready for play time now\")\n",
    "\n",
    "buddy = Animal(\"Louis\")\n",
    "buddy.play(10)\n",
    "buddy.sleep(10)\n",
    "# Example 1\n",
    "# buddy = Animal('Buddy', 10)\n",
    "# buddy.play(5) -> \"Buddy is playing for 5 minutes. His energy is now 5\"\n",
    "# buddy.sleep(10) -> \"Buddy is sleeping for 5 minutes. His energy is now 15\""
   ]
  },
  {
   "cell_type": "code",
   "execution_count": null,
   "metadata": {},
   "outputs": [],
   "source": []
  }
 ],
 "metadata": {
  "kernelspec": {
   "display_name": "Python 3 (ipykernel)",
   "language": "python",
   "name": "python3"
  },
  "language_info": {
   "codemirror_mode": {
    "name": "ipython",
    "version": 3
   },
   "file_extension": ".py",
   "mimetype": "text/x-python",
   "name": "python",
   "nbconvert_exporter": "python",
   "pygments_lexer": "ipython3",
   "version": "3.11.4"
  }
 },
 "nbformat": 4,
 "nbformat_minor": 2
}
